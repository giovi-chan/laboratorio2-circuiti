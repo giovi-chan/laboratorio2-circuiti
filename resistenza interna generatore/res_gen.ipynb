{
 "cells": [
  {
   "cell_type": "code",
   "execution_count": 11,
   "metadata": {},
   "outputs": [
    {
     "name": "stdout",
     "output_type": "stream",
     "text": [
      "La quantità basata sulla media dei valori positivi è: 51.83354308046484\n"
     ]
    }
   ],
   "source": [
    "import numpy as np\n",
    "import matplotlib.pyplot as plt\n",
    "from scipy.optimize import curve_fit\n",
    "\n",
    "R = 47.123\n",
    "# Aprire il file in modalità di lettura\n",
    "with open('resistenza interna generatore.txt', 'r') as file:\n",
    "    # Leggere tutte le righe del file\n",
    "    lines = file.readlines()\n",
    "\n",
    "# Inizializzare le liste per memorizzare i dati\n",
    "x_values = []\n",
    "y_values = []\n",
    "z_values = []\n",
    "\n",
    "# Iterare attraverso le righe e estrarre i dati\n",
    "for line in lines:\n",
    "    # Dividere la riga in base agli spazi\n",
    "    parts = line.split()\n",
    "    # Convertire i valori in numeri reali e aggiungerli alle rispettive liste\n",
    "    x_values.append(float(parts[0]))\n",
    "    y_values.append(float(parts[1]))\n",
    "    z_values.append(float(parts[2]))\n",
    "    \n",
    "for y in y_values:\n",
    "    if y < 0:\n",
    "        y_values.remove(y)    \n",
    "        \n",
    "# Definire la funzione lineare di fit\n",
    "def linear(x, a, b):\n",
    "    return a*x +b\n",
    "\n",
    "y_values = np.array(y_values)\n",
    "# Filtra solo i valori positivi\n",
    "y_values_positivi = y_values[y_values > 0]\n",
    "\n",
    "# Calcola la media dei valori positivi\n",
    "media_positivi = np.mean(y_values_positivi)\n",
    "\n",
    "# Calcola la quantità basata sulla media dei valori positivi\n",
    "quantità = R * (1 / media_positivi - 1)\n",
    "\n",
    "print(\"La quantità basata sulla media dei valori positivi è:\", quantità)\n",
    "\n"
   ]
  },
  {
   "cell_type": "code",
   "execution_count": 15,
   "metadata": {},
   "outputs": [
    {
     "name": "stdout",
     "output_type": "stream",
     "text": [
      "La quantità basata sulla media dei valori positivi è: 51.68338596624155\n"
     ]
    }
   ],
   "source": [
    "import numpy as np\n",
    "import matplotlib.pyplot as plt\n",
    "from scipy.optimize import curve_fit\n",
    "\n",
    "R = 100.34\n",
    "# Aprire il file in modalità di lettura\n",
    "with open('resistenza interna generatore2.txt', 'r') as file:\n",
    "    # Leggere tutte le righe del file\n",
    "    lines = file.readlines()\n",
    "\n",
    "# Inizializzare le liste per memorizzare i dati\n",
    "x_values = []\n",
    "y_values = []\n",
    "z_values = []\n",
    "\n",
    "# Iterare attraverso le righe e estrarre i dati\n",
    "for line in lines:\n",
    "    # Dividere la riga in base agli spazi\n",
    "    parts = line.split()\n",
    "    # Convertire i valori in numeri reali e aggiungerli alle rispettive liste\n",
    "    x_values.append(float(parts[0]))\n",
    "    y_values.append(float(parts[1]))\n",
    "    z_values.append(float(parts[2]))\n",
    "    \n",
    "for y in y_values:\n",
    "    if y < 0:\n",
    "        y_values.remove(y)    \n",
    "        \n",
    "# Definire la funzione lineare di fit\n",
    "def linear(x, a, b):\n",
    "    return a*x +b\n",
    "\n",
    "y_values = np.array(y_values)\n",
    "# Filtra solo i valori positivi\n",
    "y_values_positivi = y_values[y_values > 0]\n",
    "\n",
    "# Calcola la media dei valori positivi\n",
    "media_positivi = np.mean(y_values_positivi)\n",
    "\n",
    "# Calcola la quantità basata sulla media dei valori positivi\n",
    "quantità = R * (1 / media_positivi - 1)\n",
    "\n",
    "print(\"La quantità basata sulla media dei valori positivi è:\", quantità)"
   ]
  }
 ],
 "metadata": {
  "kernelspec": {
   "display_name": "Python 3",
   "language": "python",
   "name": "python3"
  },
  "language_info": {
   "codemirror_mode": {
    "name": "ipython",
    "version": 3
   },
   "file_extension": ".py",
   "mimetype": "text/x-python",
   "name": "python",
   "nbconvert_exporter": "python",
   "pygments_lexer": "ipython3",
   "version": "3.10.12"
  }
 },
 "nbformat": 4,
 "nbformat_minor": 2
}
